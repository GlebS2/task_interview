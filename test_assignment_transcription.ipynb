{
 "cells": [
  {
   "cell_type": "markdown",
   "id": "64072782",
   "metadata": {},
   "source": [
    "# Тестовое задание по анализу транскрибации\n"
   ]
  },
  {
   "cell_type": "markdown",
   "id": "183d144e",
   "metadata": {},
   "source": [
    "## 1. Копирование с GitHub\n",
    "Склонируйте репозиторий с данным проектом себе на локальную машину."
   ]
  },
  {
   "cell_type": "code",
   "execution_count": null,
   "id": "eeabef34",
   "metadata": {
    "vscode": {
     "languageId": "plaintext"
    }
   },
   "outputs": [],
   "source": [
    "!git clone https://github.com/GlebS2/task_interview.git"
   ]
  },
  {
   "cell_type": "markdown",
   "id": "04b4fb8c",
   "metadata": {},
   "source": [
    "## 2. Установка нужных библиотек\n",
    "При необходимости установите Python-библиотеки для работы с CSV, очистки текста и расчета WER."
   ]
  },
  {
   "cell_type": "code",
   "execution_count": null,
   "id": "8e083098",
   "metadata": {
    "vscode": {
     "languageId": "plaintext"
    }
   },
   "outputs": [],
   "source": [
    "!pip install ..."
   ]
  },
  {
   "cell_type": "markdown",
   "id": "c9729ed3",
   "metadata": {},
   "source": [
    "## 3. Задание 1: прочесть файл\n",
    "Прочитайте CSV-файл `dialogues_bank_1500.csv` и выведите первые строки.\n"
   ]
  },
  {
   "cell_type": "code",
   "execution_count": null,
   "id": "d57527dc",
   "metadata": {
    "vscode": {
     "languageId": "plaintext"
    }
   },
   "outputs": [],
   "source": []
  },
  {
   "cell_type": "markdown",
   "id": "aad3039d",
   "metadata": {},
   "source": [
    "## 4. Задание 2: посчитать WER\n",
    "Транскрибации хранятся в колонке `prod_value`, ответы разметчиков в `markup_value`\n",
    "В транскрибированных звонках звуковые каналы разделены названиями (`Клиент:`, `Оператор:`)\n",
    "\n",
    "1. Реализуйте функцию для подсчета WER.\n",
    "\n",
    "2. Подсчитайте средний WER по датасету"
   ]
  },
  {
   "cell_type": "code",
   "execution_count": null,
   "id": "6e61c32e",
   "metadata": {
    "vscode": {
     "languageId": "plaintext"
    }
   },
   "outputs": [],
   "source": []
  },
  {
   "cell_type": "markdown",
   "id": "df22b8c9",
   "metadata": {},
   "source": [
    "## 5. Задание 3: проверка гарантии качества\n",
    "Производитель системы транскрибации гарантирует, что WER < 0.15.\n",
    "\n",
    "Вопрос: если при расчете на этих данных средний WER выше 0.15, в чем может быть проблема?"
   ]
  },
  {
   "cell_type": "markdown",
   "id": "f09addd5",
   "metadata": {},
   "source": []
  }
 ],
 "metadata": {
  "language_info": {
   "name": "python"
  }
 },
 "nbformat": 4,
 "nbformat_minor": 5
}
