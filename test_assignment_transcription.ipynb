{
 "cells": [
  {
   "cell_type": "markdown",
   "id": "64072782",
   "metadata": {},
   "source": [
    "# Тестовое задание\n"
   ]
  },
  {
   "cell_type": "markdown",
   "id": "183d144e",
   "metadata": {},
   "source": [
    "## 1. Копирование с GitHub\n",
    "Склонируйте репозиторий с данным проектом себе на локальную машину."
   ]
  },
  {
   "cell_type": "code",
   "execution_count": null,
   "id": "eeabef34",
   "metadata": {},
   "outputs": [],
   "source": [
    "!git clone https://github.com/GlebS2/task_interview.git"
   ]
  },
  {
   "cell_type": "markdown",
   "id": "04b4fb8c",
   "metadata": {},
   "source": [
    "## 2. Установка нужных библиотек\n",
    "При необходимости установите Python-библиотеки для работы с CSV, очистки текста и расчета WER."
   ]
  },
  {
   "cell_type": "code",
   "execution_count": null,
   "id": "8e083098",
   "metadata": {},
   "outputs": [],
   "source": [
    "!pip install ..."
   ]
  },
  {
   "cell_type": "markdown",
   "id": "c9729ed3",
   "metadata": {},
   "source": [
    "## 3. Задание 1: прочесть файл\n",
    "Прочитайте CSV-файл `dialogues_bank_1500.csv` и выведите первые строки.\n"
   ]
  },
  {
   "cell_type": "code",
   "execution_count": null,
   "id": "d57527dc",
   "metadata": {},
   "outputs": [],
   "source": []
  },
  {
   "cell_type": "markdown",
   "id": "aad3039d",
   "metadata": {},
   "source": [
    "## 4. Задание 2: посчитать WER\n",
    "Транскрибации хранятся в колонке `prod_value`, ответы разметчиков в `markup_value`\n",
    "В транскрибированных звонках звуковые каналы разделены названиями (`Клиент:`, `Оператор:`)\n",
    "\n",
    "1. Реализуйте функцию для подсчета WER.\n",
    "\n",
    "2. Подсчитайте средний WER по датасету"
   ]
  },
  {
   "cell_type": "code",
   "execution_count": null,
   "id": "6e61c32e",
   "metadata": {},
   "outputs": [],
   "source": []
  },
  {
   "cell_type": "markdown",
   "id": "df22b8c9",
   "metadata": {},
   "source": [
    "## 5. Задание 3: проверка гарантии качества\n",
    "Производитель системы транскрибации гарантирует, что WER < 0.15.\n",
    "\n",
    "Вопрос: если при расчете на этих данных средний WER выше 0.15, в чем может быть проблема?"
   ]
  },
  {
   "cell_type": "code",
   "execution_count": null,
   "id": "6a8992c0",
   "metadata": {},
   "outputs": [],
   "source": []
  },
  {
   "cell_type": "markdown",
   "id": "f09addd5",
   "metadata": {},
   "source": []
  },
  {
   "cell_type": "markdown",
   "id": "75c0199d",
   "metadata": {},
   "source": [
    "## 6. Задание 4: Подсчет метрик и доваерительного интервала\n",
    "Переключаемся на файл `test_assignment_ci.csv`. Посчитаейте значение метрики F-1 качества классификации и расчитайте 95% доверительный интервал для этой метрики по дням.\n",
    "Ответы модели хранятся в колонке `pred`, ответы разметчиков в `intent`"
   ]
  },
  {
   "cell_type": "code",
   "execution_count": null,
   "id": "1c2faef1",
   "metadata": {},
   "outputs": [],
   "source": []
  },
  {
   "cell_type": "markdown",
   "id": "2122a147",
   "metadata": {},
   "source": [
    "Отобразите график для найденных значений"
   ]
  },
  {
   "cell_type": "markdown",
   "id": "f879b82f",
   "metadata": {},
   "source": []
  }
 ],
 "metadata": {
  "kernelspec": {
   "display_name": "base",
   "language": "python",
   "name": "python3"
  },
  "language_info": {
   "codemirror_mode": {
    "name": "ipython",
    "version": 3
   },
   "file_extension": ".py",
   "mimetype": "text/x-python",
   "name": "python",
   "nbconvert_exporter": "python",
   "pygments_lexer": "ipython3",
   "version": "3.12.9"
  }
 },
 "nbformat": 4,
 "nbformat_minor": 5
}
